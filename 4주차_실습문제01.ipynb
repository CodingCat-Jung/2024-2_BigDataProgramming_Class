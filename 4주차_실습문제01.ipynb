{
  "nbformat": 4,
  "nbformat_minor": 0,
  "metadata": {
    "colab": {
      "provenance": [],
      "authorship_tag": "ABX9TyP6SyKP+AW2KrVkb+MrnkN3",
      "include_colab_link": true
    },
    "kernelspec": {
      "name": "python3",
      "display_name": "Python 3"
    },
    "language_info": {
      "name": "python"
    }
  },
  "cells": [
    {
      "cell_type": "markdown",
      "metadata": {
        "id": "view-in-github",
        "colab_type": "text"
      },
      "source": [
        "<a href=\"https://colab.research.google.com/github/CodingCat-Jung/BigDataPrograming_Class/blob/main/4%EC%A3%BC%EC%B0%A8_%EC%8B%A4%EC%8A%B5%EB%AC%B8%EC%A0%9C01.ipynb\" target=\"_parent\"><img src=\"https://colab.research.google.com/assets/colab-badge.svg\" alt=\"Open In Colab\"/></a>"
      ]
    },
    {
      "cell_type": "code",
      "source": [
        "money = int(input(\"지폐로 교환할 금액을 입력하세요.\"))\n",
        "\n",
        "# 5만원\n",
        "fifty = money // 50000\n",
        "money %= 50000\n",
        "\n",
        "# 1만원\n",
        "ten = money // 10000\n",
        "money %= 10000\n",
        "\n",
        "# 5천원\n",
        "five = money // 5000\n",
        "money %= 5000\n",
        "\n",
        "# 1천원\n",
        "one = money // 1000\n",
        "money %= 1000\n",
        "\n",
        "print(\"5만원권 : \",fifty)\n",
        "print(\"1만원권 : \",ten)\n",
        "print(\"5천원권 : \",five)\n",
        "print(\"1천원권 : \",one)\n",
        "print(\"나머지 잔돈 : \", money)"
      ],
      "metadata": {
        "colab": {
          "base_uri": "https://localhost:8080/"
        },
        "id": "rLr2gDE-md_d",
        "outputId": "1c49da11-14ad-4eac-ff7b-53b7a6c1251a"
      },
      "execution_count": 3,
      "outputs": [
        {
          "output_type": "stream",
          "name": "stdout",
          "text": [
            "지폐로 교환할 금액을 입력하세요.777500\n",
            "5만원권 :  15\n",
            "1만원권 :  2\n",
            "5천원권 :  1\n",
            "1천원권 :  2\n",
            "나머지 잔돈 :  500\n"
          ]
        }
      ]
    },
    {
      "cell_type": "code",
      "source": [
        "import random\n",
        "\n",
        "answer = random.randint(1,100)\n",
        "\n",
        "tries = 0\n",
        "\n",
        "print(\"1부터 100사이의 숫자를 맞추시오.\")\n",
        "\n",
        "while tries < 10 :\n",
        "  num = int(input(\"숫자를 입력하세요.\"))\n",
        "  tries += 1\n",
        "\n",
        "  if num > answer :\n",
        "    print(\"더 작은 수를 입력하시오.\")\n",
        "\n",
        "  elif num < answer :\n",
        "    print(\"더 큰 수를 입력하시오.\")\n",
        "\n",
        "  else :\n",
        "    print(tries, \"번 시도만에 정답을 맞추셨습니다.\")\n",
        "    break;"
      ],
      "metadata": {
        "colab": {
          "base_uri": "https://localhost:8080/"
        },
        "id": "OA_tMnoNoSm5",
        "outputId": "1208b547-b77f-47c1-ac41-c0a79a74bb19"
      },
      "execution_count": 4,
      "outputs": [
        {
          "output_type": "stream",
          "name": "stdout",
          "text": [
            "1부터 100사이의 숫자를 맞추시오.\n",
            "숫자를 입력하세요.50\n",
            "더 작은 수를 입력하시오.\n",
            "숫자를 입력하세요.30\n",
            "더 작은 수를 입력하시오.\n",
            "숫자를 입력하세요.15\n",
            "더 큰 수를 입력하시오.\n",
            "숫자를 입력하세요.20\n",
            "더 큰 수를 입력하시오.\n",
            "숫자를 입력하세요.25\n",
            "더 큰 수를 입력하시오.\n",
            "숫자를 입력하세요.27\n",
            "더 큰 수를 입력하시오.\n",
            "숫자를 입력하세요.28\n",
            "7 번 시도만에 정답을 맞추셨습니다.\n"
          ]
        }
      ]
    },
    {
      "cell_type": "code",
      "source": [
        "# 3개의 방 중 한 곳에 숨어 버린 범인 찾기\n",
        "# 범인이 숨은 방을 맞추면 100점 추가 후 게임 종료\n",
        "# 하지만 틀리면 범인은 다른 방에 숨고 10점 감점 후 다시 맞추기\n",
        "\n",
        "import random\n",
        "\n",
        "room = random.randint(1,3)\n",
        "score = 0\n",
        "\n",
        "while True :\n",
        "  num = int(input(\"방을 선택하세요. 1번 방, 2번 방, 3번 방, 종료는 4\"))\n",
        "\n",
        "  if room == num:\n",
        "    score += 100\n",
        "    print(\"정답입니다. 100점을 획득하셨습니다. 현재 점수는 \",score)\n",
        "\n",
        "  elif num == 4:\n",
        "    print(\"종료합니다. 점수는 \",score)\n",
        "    break;\n",
        "\n",
        "  else :\n",
        "    score -= 10\n",
        "    print(\"틀렸습니다. 범인이 있는 방은\", room, \"번 방입니다. 10점 감점되었습니다. 다시 시도하세요. 현재 점수는 \", score)\n",
        "    room = random.randint(1,3)"
      ],
      "metadata": {
        "colab": {
          "base_uri": "https://localhost:8080/"
        },
        "id": "ra-E4Wh8p-p9",
        "outputId": "eea92829-95b3-4125-eecc-972b085e3963"
      },
      "execution_count": 12,
      "outputs": [
        {
          "output_type": "stream",
          "name": "stdout",
          "text": [
            "방을 선택하세요. 1번 방, 2번 방, 3번 방, 종료는 4 2\n",
            "정답입니다. 100점을 획득하셨습니다. 현재 점수는  100\n",
            "방을 선택하세요. 1번 방, 2번 방, 3번 방, 종료는 4 3\n",
            "틀렸습니다. 정답은 2 10점 감점되었습니다. 다시 시도하세요. 현재 점수는  90\n",
            "방을 선택하세요. 1번 방, 2번 방, 3번 방, 종료는 4 4\n",
            "종료합니다. 점수는  90\n"
          ]
        }
      ]
    }
  ]
}