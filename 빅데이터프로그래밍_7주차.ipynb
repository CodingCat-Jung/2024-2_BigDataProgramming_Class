{
  "nbformat": 4,
  "nbformat_minor": 0,
  "metadata": {
    "colab": {
      "provenance": [],
      "authorship_tag": "ABX9TyMiq0EAaci7FVyjfPg0hu/I",
      "include_colab_link": true
    },
    "kernelspec": {
      "name": "python3",
      "display_name": "Python 3"
    },
    "language_info": {
      "name": "python"
    }
  },
  "cells": [
    {
      "cell_type": "markdown",
      "metadata": {
        "id": "view-in-github",
        "colab_type": "text"
      },
      "source": [
        "<a href=\"https://colab.research.google.com/github/CodingCat-Jung/2024-2_BigDataProgramming_Class/blob/main/%EB%B9%85%EB%8D%B0%EC%9D%B4%ED%84%B0%ED%94%84%EB%A1%9C%EA%B7%B8%EB%9E%98%EB%B0%8D_7%EC%A3%BC%EC%B0%A8.ipynb\" target=\"_parent\"><img src=\"https://colab.research.google.com/assets/colab-badge.svg\" alt=\"Open In Colab\"/></a>"
      ]
    },
    {
      "cell_type": "code",
      "execution_count": 4,
      "metadata": {
        "colab": {
          "base_uri": "https://localhost:8080/"
        },
        "id": "cUtZLOyMuVFu",
        "outputId": "dd8496bc-3cf8-4b0c-f8e2-c48e49609e86"
      },
      "outputs": [
        {
          "output_type": "stream",
          "name": "stdout",
          "text": [
            "<class 'list'>\n",
            "['홍길동 010-1234-5678\\n', '김철수 010-1234-5679\\n', '강감찬 010-1234-5680']\n"
          ]
        }
      ],
      "source": [
        "# 1. 파일 열기\n",
        "# 2. 읽기 / 쓰기\n",
        "# 3. 파일 닫기\n",
        "\n",
        "# open() 시 모드 r, w, a\n",
        "\n",
        "infile = open(\"phones.txt\", \"r\")\n",
        "\n",
        "# 읽기 read() readlines() readline()\n",
        "c = infile.readlines()\n",
        "print(type(c))\n",
        "print(c)\n",
        "\n",
        "infile.close()"
      ]
    },
    {
      "cell_type": "code",
      "source": [
        "# 1. 파일 열기\n",
        "# 2. 읽기 / 쓰기\n",
        "# 3. 파일 닫기\n",
        "\n",
        "# open() 시 모드 r, w, a\n",
        "\n",
        "infile = open(\"phones.txt\", \"r\")\n",
        "\n",
        "# 읽기 read() readlines() readline()\n",
        "c = infile.readline()\n",
        "\n",
        "while c != \"\":\n",
        "  print(type(c))\n",
        "  print(c)\n",
        "  c = infile.readline()\n",
        "\n",
        "infile.close()"
      ],
      "metadata": {
        "colab": {
          "base_uri": "https://localhost:8080/"
        },
        "id": "EHSR5JW8wtWY",
        "outputId": "e7e5c607-991f-49c3-acbb-73d7dc30be23"
      },
      "execution_count": 7,
      "outputs": [
        {
          "output_type": "stream",
          "name": "stdout",
          "text": [
            "<class 'str'>\n",
            "홍길동 010-1234-5678\n",
            "\n",
            "<class 'str'>\n",
            "김철수 010-1234-5679\n",
            "\n",
            "<class 'str'>\n",
            "강감찬 010-1234-5680\n"
          ]
        }
      ]
    },
    {
      "cell_type": "code",
      "source": [
        "inputfilename = input(\"입력파일명 : \")\n",
        "outputfilename = input(\"출력파일명 : \")\n",
        "\n",
        "infile = open(inputfilename, \"r\")\n",
        "outfile = open(outputfilename, \"w\")\n",
        "\n",
        "c = infile.read()\n",
        "outfile.write(c)\n",
        "\n",
        "infile.close()\n",
        "outfile.close()"
      ],
      "metadata": {
        "colab": {
          "base_uri": "https://localhost:8080/"
        },
        "id": "g51s6Dg3xDN7",
        "outputId": "0f32526d-39c0-4048-dd91-9458bb1fc4d4"
      },
      "execution_count": 8,
      "outputs": [
        {
          "name": "stdout",
          "output_type": "stream",
          "text": [
            "입력파일명 : phones.txt\n",
            "출력파일명 : copy.txt\n"
          ]
        }
      ]
    },
    {
      "cell_type": "code",
      "source": [
        "s = \"신창 맛집 중국집 짜장면 배달 평점5\"\n",
        "\n",
        "# 파싱하는 함수 split() - delimiter ' '\n",
        "token = s.split()\n",
        "\n",
        "print(type(token))\n",
        "print(token)"
      ],
      "metadata": {
        "colab": {
          "base_uri": "https://localhost:8080/"
        },
        "id": "h1M9Y2AJxruE",
        "outputId": "20e7d291-69b2-44dc-df84-9df689187305"
      },
      "execution_count": 9,
      "outputs": [
        {
          "output_type": "stream",
          "name": "stdout",
          "text": [
            "<class 'list'>\n",
            "['신창', '맛집', '중국집', '짜장면', '배달', '평점5']\n"
          ]
        }
      ]
    },
    {
      "cell_type": "code",
      "source": [
        "infile = open(\"input.txt\", \"r\")\n",
        "outfile = open(\"output.txt\", \"w\")\n",
        "\n",
        "total_count = 0\n",
        "word_dic = {} # 딕셔너리는 키 값이 중복이 허용 안 됨\n",
        "# word_dic = { 'a': 7, 'b': 3 ..... }\n",
        "# ex) word_dic[key] = 1 -- key = word\n",
        "\n",
        "for line in infile:\n",
        "  line = line.rstrip() # .lstrip .strip\n",
        "  word_list = line.split()\n",
        "\n",
        "  for word in word_list:\n",
        "    word = word.lower() # .upper()\n",
        "    word = word.strip(',') # 쉼표 제거\n",
        "    word = word.strip('.')\n",
        "\n",
        "  # 조건문 : 관계, 논리연산자, 포함연산자 (in)\n",
        "  # a = 10\n",
        "  # if a in [10, 20, 30, 40]:\n",
        "\n",
        "    if word in word_dic :\n",
        "      word_dic[word] += 1\n",
        "\n",
        "    else: # 현재 딕셔너리에 없는 새로운 단어\n",
        "      word_dic[word] = 1\n",
        "\n",
        "    total_count += 1\n",
        "\n",
        "# 모든 단어에 대해 선처리 후 딕셔너리에 등록 완료\n",
        "\n",
        "result = \"\"\n",
        "# 딕셔너리 함수 keys() values() items()\n",
        "# print(word_dic.keys())\n",
        "# print(word_dic.values())\n",
        "\n",
        "for key in sorted(word_dic.keys()):\n",
        "  result = key + \" \" + str(word_dic[key]) + \"\\n\" # 문자열과 정수는 더할 수 없음. str()\n",
        "  outfile.write(result)\n",
        "\n",
        "# sort()\n",
        "# sorted() -원본을 건드리지 않음\n",
        "\n",
        "# print(word_dic)\n",
        "print(total_count)\n",
        "\n",
        "infile.close()\n",
        "outfile.close()"
      ],
      "metadata": {
        "colab": {
          "base_uri": "https://localhost:8080/"
        },
        "id": "K0n9WO-4y12G",
        "outputId": "c3c87fb0-363f-435c-848e-242a8e1f5e9d"
      },
      "execution_count": 12,
      "outputs": [
        {
          "output_type": "stream",
          "name": "stdout",
          "text": [
            "267\n"
          ]
        }
      ]
    },
    {
      "cell_type": "code",
      "source": [
        "import csv\n",
        "\n",
        "infile = open(\"weather_input2.csv\", \"r\")\n",
        "data = csv.reader(infile)\n",
        "\n",
        "sum = 0\n",
        "count = 0\n",
        "\n",
        "# for line in data:\n",
        "#   count += 1\n",
        "#   sum += float(line[2])\n",
        "\n",
        "for line in data:\n",
        "    # Check if the third element exists and is not empty\n",
        "    if len(line) > 2 and line[2]:\n",
        "        try:\n",
        "            # Attempt to convert to float\n",
        "            sum += float(line[2])\n",
        "            count += 1\n",
        "        except ValueError:\n",
        "            # Handle the error if conversion fails\n",
        "            print(f\"Skipping invalid value in line: {line}\")\n",
        "\n",
        "\n",
        "print(\"총 강수량 \",sum)\n",
        "print(\"평균 강수량 \", sum / count)\n",
        "\n",
        "infile.close()"
      ],
      "metadata": {
        "colab": {
          "base_uri": "https://localhost:8080/"
        },
        "id": "uSHRMNzT9vSo",
        "outputId": "7bebc412-8e73-4b54-c9e0-bb8d2fa30908"
      },
      "execution_count": 27,
      "outputs": [
        {
          "output_type": "stream",
          "name": "stdout",
          "text": [
            "총 강수량  13823.700000000019\n",
            "평균 강수량  8.228392857142868\n"
          ]
        }
      ]
    },
    {
      "cell_type": "code",
      "source": [
        "!pip install numpy"
      ],
      "metadata": {
        "colab": {
          "base_uri": "https://localhost:8080/"
        },
        "id": "yK9KyHKHAocV",
        "outputId": "63da4b32-6d9b-479c-9552-95f953906dc9"
      },
      "execution_count": 23,
      "outputs": [
        {
          "output_type": "stream",
          "name": "stdout",
          "text": [
            "Requirement already satisfied: numpy in /usr/local/lib/python3.10/dist-packages (1.26.4)\n"
          ]
        }
      ]
    },
    {
      "cell_type": "code",
      "source": [],
      "metadata": {
        "id": "4xPsVQSFG-28"
      },
      "execution_count": null,
      "outputs": []
    }
  ]
}