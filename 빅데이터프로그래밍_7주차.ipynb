{
  "nbformat": 4,
  "nbformat_minor": 0,
  "metadata": {
    "colab": {
      "provenance": [],
      "authorship_tag": "ABX9TyM5B0divJAGuZd8xG+Z/HFQ",
      "include_colab_link": true
    },
    "kernelspec": {
      "name": "python3",
      "display_name": "Python 3"
    },
    "language_info": {
      "name": "python"
    }
  },
  "cells": [
    {
      "cell_type": "markdown",
      "metadata": {
        "id": "view-in-github",
        "colab_type": "text"
      },
      "source": [
        "<a href=\"https://colab.research.google.com/github/CodingCat-Jung/2024-2_BigDataProgramming_Class/blob/main/%EB%B9%85%EB%8D%B0%EC%9D%B4%ED%84%B0%ED%94%84%EB%A1%9C%EA%B7%B8%EB%9E%98%EB%B0%8D_7%EC%A3%BC%EC%B0%A8.ipynb\" target=\"_parent\"><img src=\"https://colab.research.google.com/assets/colab-badge.svg\" alt=\"Open In Colab\"/></a>"
      ]
    },
    {
      "cell_type": "code",
      "execution_count": 4,
      "metadata": {
        "colab": {
          "base_uri": "https://localhost:8080/"
        },
        "id": "cUtZLOyMuVFu",
        "outputId": "dd8496bc-3cf8-4b0c-f8e2-c48e49609e86"
      },
      "outputs": [
        {
          "output_type": "stream",
          "name": "stdout",
          "text": [
            "<class 'list'>\n",
            "['홍길동 010-1234-5678\\n', '김철수 010-1234-5679\\n', '강감찬 010-1234-5680']\n"
          ]
        }
      ],
      "source": [
        "# 1. 파일 열기\n",
        "# 2. 읽기 / 쓰기\n",
        "# 3. 파일 닫기\n",
        "\n",
        "# open() 시 모드 r, w, a\n",
        "\n",
        "infile = open(\"phones.txt\", \"r\")\n",
        "\n",
        "# 읽기 read() readlines() readline()\n",
        "c = infile.readlines()\n",
        "print(type(c))\n",
        "print(c)\n",
        "\n",
        "infile.close()"
      ]
    },
    {
      "cell_type": "code",
      "source": [
        "# 1. 파일 열기\n",
        "# 2. 읽기 / 쓰기\n",
        "# 3. 파일 닫기\n",
        "\n",
        "# open() 시 모드 r, w, a\n",
        "\n",
        "infile = open(\"phones.txt\", \"r\")\n",
        "\n",
        "# 읽기 read() readlines() readline()\n",
        "c = infile.readline()\n",
        "\n",
        "while c != \"\":\n",
        "  print(type(c))\n",
        "  print(c)\n",
        "  c = infile.readline()\n",
        "\n",
        "infile.close()"
      ],
      "metadata": {
        "colab": {
          "base_uri": "https://localhost:8080/"
        },
        "id": "EHSR5JW8wtWY",
        "outputId": "e7e5c607-991f-49c3-acbb-73d7dc30be23"
      },
      "execution_count": 7,
      "outputs": [
        {
          "output_type": "stream",
          "name": "stdout",
          "text": [
            "<class 'str'>\n",
            "홍길동 010-1234-5678\n",
            "\n",
            "<class 'str'>\n",
            "김철수 010-1234-5679\n",
            "\n",
            "<class 'str'>\n",
            "강감찬 010-1234-5680\n"
          ]
        }
      ]
    },
    {
      "cell_type": "code",
      "source": [
        "inputfilename = input(\"입력파일명 : \")\n",
        "outputfilename = input(\"출력파일명 : \")\n",
        "\n",
        "infile = open(inputfilename, \"r\")\n",
        "outfile = open(outputfilename, \"w\")\n",
        "\n",
        "c = infile.read()\n",
        "outfile.write(c)\n",
        "\n",
        "infile.close()\n",
        "outfile.close()"
      ],
      "metadata": {
        "colab": {
          "base_uri": "https://localhost:8080/"
        },
        "id": "g51s6Dg3xDN7",
        "outputId": "0f32526d-39c0-4048-dd91-9458bb1fc4d4"
      },
      "execution_count": 8,
      "outputs": [
        {
          "name": "stdout",
          "output_type": "stream",
          "text": [
            "입력파일명 : phones.txt\n",
            "출력파일명 : copy.txt\n"
          ]
        }
      ]
    },
    {
      "cell_type": "code",
      "source": [
        "s = \"신창 맛집 중국집 짜장면 배달 평점5\"\n",
        "\n",
        "# 파싱하는 함수 split() - delimiter ' '\n",
        "token = s.split()\n",
        "\n",
        "print(type(token))\n",
        "print(token)"
      ],
      "metadata": {
        "colab": {
          "base_uri": "https://localhost:8080/"
        },
        "id": "h1M9Y2AJxruE",
        "outputId": "20e7d291-69b2-44dc-df84-9df689187305"
      },
      "execution_count": 9,
      "outputs": [
        {
          "output_type": "stream",
          "name": "stdout",
          "text": [
            "<class 'list'>\n",
            "['신창', '맛집', '중국집', '짜장면', '배달', '평점5']\n"
          ]
        }
      ]
    },
    {
      "cell_type": "code",
      "source": [
        "infile = open(\"input.txt\", \"r\")\n",
        "outfile = open(\"output.txt\", \"w\")\n",
        "\n",
        "total_count = 0\n",
        "word_dic = {} # 딕셔너리는 키 값이 중복이 허용 안 됨\n",
        "# word_dic = { 'a': 7, 'b': 3 ..... }\n",
        "# ex) word_dic[key] = 1 -- key = word\n",
        "\n",
        "for line in infile:\n",
        "  line = line.rstrip() # .lstrip .strip\n",
        "  word_list = line.split()\n",
        "\n",
        "  for word in word_list:\n",
        "    word = word.lower() # .upper()\n",
        "    word = word.strip(',') # 쉼표 제거\n",
        "    word = word.strip('.')\n",
        "\n",
        "  # 조건문 : 관계, 논리연산자, 포함연산자 (in)\n",
        "  # a = 10\n",
        "  # if a in [10, 20, 30, 40]:\n",
        "\n",
        "    if word in word_dic :\n",
        "      word_dic[word] += 1\n",
        "\n",
        "    else: # 현재 딕셔너리에 없는 새로운 단어\n",
        "      word_dic[word] = 1\n",
        "\n",
        "    total_count += 1\n",
        "\n",
        "# 모든 단어에 대해 선처리 후 딕셔너리에 등록 완료\n",
        "\n",
        "result = \"\"\n",
        "# 딕셔너리 함수 keys() values() items()\n",
        "# print(word_dic.keys())\n",
        "# print(word_dic.values())\n",
        "\n",
        "for key in sorted(word_dic.keys()):\n",
        "  result = key + \" \" + str(word_dic[key]) + \"\\n\" # 문자열과 정수는 더할 수 없음. str()\n",
        "  outfile.write(result)\n",
        "\n",
        "# sort()\n",
        "# sorted() -원본을 건드리지 않음\n",
        "\n",
        "# print(word_dic)\n",
        "print(total_count)\n",
        "\n",
        "infile.close()\n",
        "outfile.close()"
      ],
      "metadata": {
        "colab": {
          "base_uri": "https://localhost:8080/"
        },
        "id": "K0n9WO-4y12G",
        "outputId": "c3c87fb0-363f-435c-848e-242a8e1f5e9d"
      },
      "execution_count": 12,
      "outputs": [
        {
          "output_type": "stream",
          "name": "stdout",
          "text": [
            "267\n"
          ]
        }
      ]
    },
    {
      "cell_type": "code",
      "source": [
        "import csv\n",
        "\n",
        "infile = open(\"weather_input2.csv\", \"r\")\n",
        "data = csv.reader(infile)\n",
        "\n",
        "sum = 0\n",
        "count = 0\n",
        "\n",
        "# for line in data:\n",
        "#   count += 1\n",
        "#   sum += float(line[2])\n",
        "\n",
        "for line in data:\n",
        "    # Check if the third element exists and is not empty\n",
        "    if len(line) > 2 and line[2]:\n",
        "\n",
        "        try:\n",
        "            # Attempt to convert to float\n",
        "            sum += float(line[2])\n",
        "            count += 1\n",
        "\n",
        "        except ValueError:\n",
        "            # Handle the error if conversion fails\n",
        "            print(f\"Skipping invalid value in line: {line}\")\n",
        "\n",
        "\n",
        "print(\"총 강수량 \",sum)\n",
        "print(\"평균 강수량 \", sum / count)\n",
        "\n",
        "infile.close()"
      ],
      "metadata": {
        "colab": {
          "base_uri": "https://localhost:8080/"
        },
        "id": "uSHRMNzT9vSo",
        "outputId": "7bebc412-8e73-4b54-c9e0-bb8d2fa30908"
      },
      "execution_count": 27,
      "outputs": [
        {
          "output_type": "stream",
          "name": "stdout",
          "text": [
            "총 강수량  13823.700000000019\n",
            "평균 강수량  8.228392857142868\n"
          ]
        }
      ]
    },
    {
      "cell_type": "code",
      "source": [
        "!pip install numpy"
      ],
      "metadata": {
        "colab": {
          "base_uri": "https://localhost:8080/"
        },
        "id": "yK9KyHKHAocV",
        "outputId": "63da4b32-6d9b-479c-9552-95f953906dc9"
      },
      "execution_count": 23,
      "outputs": [
        {
          "output_type": "stream",
          "name": "stdout",
          "text": [
            "Requirement already satisfied: numpy in /usr/local/lib/python3.10/dist-packages (1.26.4)\n"
          ]
        }
      ]
    },
    {
      "cell_type": "code",
      "source": [
        "import numpy as np\n",
        "\n",
        "data = np.loadtxt(\"chocolate_rating.csv\", delimiter=\",\")\n",
        "\n",
        "print(\"차원 : \", data.ndim)\n",
        "print(\"모양: \", data.shape)\n",
        "print(\"원소수: \", data.size)\n",
        "print(\"데이터 타입: \", data.dtype)\n",
        "\n",
        "print()\n",
        "\n",
        "# print(data)\n",
        "\n",
        "rating_avg = data[:,3].mean()\n",
        "print(rating_avg)\n",
        "\n",
        "print()\n",
        "\n",
        "high_level = data[data[:,3] >= 4]\n",
        "high_id = high_level[:,0].astype(int)\n",
        "print(\"우수 초콜렛 수 : \", high_id.size)\n",
        "print(high_id)\n",
        "\n",
        "print()\n",
        "\n",
        "high_kakao = high_level[:,2]\n",
        "unique_value, value_counts = np.unique(high_kakao, return_counts = True)\n",
        "print(\"카카오 함유량 : \", unique_value)\n",
        "print(\"빈도 수 : \", value_counts)\n",
        "\n",
        "print()\n",
        "\n",
        "max_index = np.argmax(value_counts)\n",
        "print(\"가장 많이 나온 카카오 함유량 : \", unique_value[max_index])\n",
        "\n",
        "print(\"우수 초콜렛 \", high_id.size, \"가지 중\", value_counts[max_index], \"가지의 카카오 함유량이 \", unique_value[max_index] * 100, \"%입니다.\")"
      ],
      "metadata": {
        "colab": {
          "base_uri": "https://localhost:8080/"
        },
        "id": "4xPsVQSFG-28",
        "outputId": "8b2cde1c-ff74-452d-aea3-5fc867b1faf8"
      },
      "execution_count": 37,
      "outputs": [
        {
          "output_type": "stream",
          "name": "stdout",
          "text": [
            "차원 :  2\n",
            "모양:  (1795, 4)\n",
            "원소수:  7180\n",
            "데이터 타입:  float64\n",
            "\n",
            "3.185933147632312\n",
            "\n",
            "우수 초콜렛 수 :  100\n",
            "[  10   18   21   55   57   77   78   79   84   87   88   93  108  109\n",
            "  118  124  153  180  181  187  223  232  233  240  243  244  245  248\n",
            "  257  312  316  317  358  437  503  567  573  574  582  601  650  687\n",
            "  690  691  701  720  730  800  828  862  864  865  866  883  919  993\n",
            " 1088 1089 1118 1119 1120 1204 1241 1245 1247 1274 1277 1278 1289 1291\n",
            " 1293 1295 1323 1331 1336 1378 1394 1426 1428 1433 1479 1488 1513 1516\n",
            " 1529 1530 1531 1533 1536 1537 1544 1545 1664 1683 1686 1688 1694 1700\n",
            " 1740 1757]\n",
            "\n",
            "카카오 함유량 :  [0.6  0.63 0.64 0.65 0.66 0.67 0.68 0.69 0.7  0.71 0.72 0.73 0.74 0.75\n",
            " 0.78 0.8  0.88]\n",
            "빈도 수 :  [ 1  3  4  2  1  3  2  2 45  1 11  1  4 17  1  1  1]\n",
            "\n",
            "가장 많이 나온 카카오 함유량 :  0.7\n",
            "우수 초콜렛  100 가지 중 45 가지의 카카오 함유량이  70.0 %입니다.\n"
          ]
        }
      ]
    }
  ]
}