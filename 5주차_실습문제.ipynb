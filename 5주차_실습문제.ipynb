{
  "nbformat": 4,
  "nbformat_minor": 0,
  "metadata": {
    "colab": {
      "provenance": [],
      "authorship_tag": "ABX9TyPY3xSw5MyklQvCigEzOKf3",
      "include_colab_link": true
    },
    "kernelspec": {
      "name": "python3",
      "display_name": "Python 3"
    },
    "language_info": {
      "name": "python"
    }
  },
  "cells": [
    {
      "cell_type": "markdown",
      "metadata": {
        "id": "view-in-github",
        "colab_type": "text"
      },
      "source": [
        "<a href=\"https://colab.research.google.com/github/CodingCat-Jung/2024-2_BigDataProgramming_Class/blob/main/5%EC%A3%BC%EC%B0%A8_%EC%8B%A4%EC%8A%B5%EB%AC%B8%EC%A0%9C.ipynb\" target=\"_parent\"><img src=\"https://colab.research.google.com/assets/colab-badge.svg\" alt=\"Open In Colab\"/></a>"
      ]
    },
    {
      "cell_type": "code",
      "execution_count": 3,
      "metadata": {
        "colab": {
          "base_uri": "https://localhost:8080/"
        },
        "id": "RFKapAu26UKL",
        "outputId": "319797f8-ec62-41e0-d6b3-be4f1a3aeb2c"
      },
      "outputs": [
        {
          "output_type": "stream",
          "name": "stdout",
          "text": [
            "정수를 입력하시오: 10 20 30\n",
            "평균: 20.00 \n",
            "최대:  30\n",
            "최소:  10\n"
          ]
        }
      ],
      "source": [
        "num_list = []\n",
        "num_list = list(map(int, input(\"정수를 입력하시오: \").split()))\n",
        "\n",
        "avg = sum(num_list) / len(num_list)\n",
        "print(\"평균: {:.2f} \".format(avg))\n",
        "\n",
        "max = num_list[0]\n",
        "for i in range(1, len(num_list)):\n",
        "    if num_list[i] > max:\n",
        "        max = num_list[i]\n",
        "print(\"최대: \", max)\n",
        "\n",
        "min = num_list[0]\n",
        "for i in range(1, len(num_list)):\n",
        "    if num_list[i] < min:\n",
        "        min = num_list[i]\n",
        "print(\"최소: \", min)"
      ]
    },
    {
      "cell_type": "code",
      "source": [
        "def cal_avg(numbers):\n",
        "  if(len(numbers) == 0):\n",
        "    return 0\n",
        "  else:\n",
        "    return sum(numbers) / len(numbers)\n",
        "\n",
        "\n",
        "numbers = []\n",
        "\n",
        "while True:\n",
        "  command = input(\"명령어를 입력하세요(삽입, 삭제, 끝) \")\n",
        "  if command == \"삽입\":\n",
        "    data = int(input(\"삽입할 데이터를 입력하세요: \"))\n",
        "    numbers.append(data)\n",
        "    avg = cal_avg(numbers)\n",
        "    print(\"{} 평균: {} \".format(numbers, avg))\n",
        "\n",
        "  elif command == \"삭제\":\n",
        "    if len(numbers) != 0:\n",
        "      numbers.pop()\n",
        "      avg = cal_avg(numbers)\n",
        "      print(\"{} 평균: {} \".format(numbers, avg))\n",
        "    else:\n",
        "      print(\"데이터가 없습니다.\")\n",
        "\n",
        "  elif command == \"끝\":\n",
        "    break\n",
        "\n",
        "  else:\n",
        "    print(\"잘못된 명령어입니다.\")\n",
        "\n",
        "print(\"프로그램을 종료합니다.\")"
      ],
      "metadata": {
        "colab": {
          "base_uri": "https://localhost:8080/"
        },
        "id": "s7wQxCYr93BO",
        "outputId": "20da5750-ceee-4818-b49c-cd8e9f945b78"
      },
      "execution_count": 5,
      "outputs": [
        {
          "output_type": "stream",
          "name": "stdout",
          "text": [
            "명령어를 입력하세요(삽입, 삭제, 끝) 삽입\n",
            "삽입할 데이터를 입력하세요: 19\n",
            "[19] 평균: 19.0 \n",
            "명령어를 입력하세요(삽입, 삭제, 끝) 삽입\n",
            "삽입할 데이터를 입력하세요: 17\n",
            "[19, 17] 평균: 18.0 \n",
            "명령어를 입력하세요(삽입, 삭제, 끝) 삽입\n",
            "삽입할 데이터를 입력하세요: 25\n",
            "[19, 17, 25] 평균: 20.333333333333332 \n",
            "명령어를 입력하세요(삽입, 삭제, 끝) 삽입\n",
            "삽입할 데이터를 입력하세요: 37\n",
            "[19, 17, 25, 37] 평균: 24.5 \n",
            "명령어를 입력하세요(삽입, 삭제, 끝) 삭제\n",
            "[19, 17, 25] 평균: 20.333333333333332 \n",
            "명령어를 입력하세요(삽입, 삭제, 끝) 끝\n",
            "프로그램을 종료합니다.\n"
          ]
        }
      ]
    },
    {
      "cell_type": "code",
      "source": [
        "pyth_list = []\n",
        "data_list = []\n",
        "comp_list = []\n",
        "total_list = []\n",
        "score_list = []\n",
        "\n",
        "st_num = 5 #학생 수\n",
        "\n",
        "def read_data(pyth_list, data_list, comp_list):\n",
        "  for i in range(st_num):\n",
        "    print(\"{}번 학생 점수 입력\".format(i+1))\n",
        "\n",
        "    pyth_list.append(int(input(\"파이썬 점수를 입력하시오: \")))\n",
        "    data_list.append(int(input(\"자료구조 점수를 입력하시오: \")))\n",
        "    comp_list.append(int(input(\"컴퓨터 점수를 입력하시오: \")))\n",
        "\n",
        "  return pyth_list, data_list, comp_list\n",
        "\n",
        "def compute_data(pyth_list, data_list, comp_list, total_list, score_list, st_num):\n",
        "  for i in range(st_num):\n",
        "    total = pyth_list[i] + data_list[i] + comp_list[i]\n",
        "    total_list.append(total)\n",
        "    avg = total / 3\n",
        "    score_list.append(decide_score(avg))\n",
        "  return total_list, score_list\n",
        "\n",
        "def print_data(pyth_list, data_list, comp_list, total_list, score_list, st_num):\n",
        "  for i in range(st_num):\n",
        "    print(\"{}번 학생 점수\".format(i+1))\n",
        "    print(\"파이썬 {} 자료구조 {} 컴퓨터 {}\".format(pyth_list[i], data_list[i], comp_list[i]))\n",
        "    print(\"총점 {} 평균 {} 학점 {}\".format(total_list[i], total_list[i] / 3,score_list[i]))\n",
        "\n",
        "def decide_score(avg):\n",
        "  if avg >= 90:\n",
        "    return 'A'\n",
        "  elif avg >= 80:\n",
        "    return 'B'\n",
        "  elif avg >= 70:\n",
        "    return 'C'\n",
        "  elif avg >= 60:\n",
        "    return 'D'\n",
        "  else:\n",
        "    return 'F'\n",
        "\n",
        "read_data(pyth_list, data_list, comp_list)\n",
        "compute_data(pyth_list, data_list, comp_list, total_list, score_list, st_num)\n",
        "print_data(pyth_list, data_list, comp_list, total_list, score_list, st_num)\n"
      ],
      "metadata": {
        "colab": {
          "base_uri": "https://localhost:8080/"
        },
        "collapsed": true,
        "id": "Du3L7Jnz_yK7",
        "outputId": "e667dd47-7ed4-41bf-89a0-8beafc9cb564"
      },
      "execution_count": 10,
      "outputs": [
        {
          "output_type": "stream",
          "name": "stdout",
          "text": [
            "1번 학생 점수 입력\n",
            "파이썬 점수를 입력하시오: 70\n",
            "자료구조 점수를 입력하시오: 80\n",
            "컴퓨터 점수를 입력하시오: 80\n",
            "2번 학생 점수 입력\n",
            "파이썬 점수를 입력하시오: 30\n",
            "자료구조 점수를 입력하시오: 50\n",
            "컴퓨터 점수를 입력하시오: 40\n",
            "3번 학생 점수 입력\n",
            "파이썬 점수를 입력하시오: 90\n",
            "자료구조 점수를 입력하시오: 80\n",
            "컴퓨터 점수를 입력하시오: 80\n",
            "4번 학생 점수 입력\n",
            "파이썬 점수를 입력하시오: 60\n",
            "자료구조 점수를 입력하시오: 70\n",
            "컴퓨터 점수를 입력하시오: 90\n",
            "5번 학생 점수 입력\n",
            "파이썬 점수를 입력하시오: 30\n",
            "자료구조 점수를 입력하시오: 50\n",
            "컴퓨터 점수를 입력하시오: 90\n",
            "1번 학생 점수\n",
            "파이썬 70 자료구조 80 컴퓨터 80\n",
            "총점 230 평균 76.66666666666667 학점 C\n",
            "2번 학생 점수\n",
            "파이썬 30 자료구조 50 컴퓨터 40\n",
            "총점 120 평균 40.0 학점 F\n",
            "3번 학생 점수\n",
            "파이썬 90 자료구조 80 컴퓨터 80\n",
            "총점 250 평균 83.33333333333333 학점 B\n",
            "4번 학생 점수\n",
            "파이썬 60 자료구조 70 컴퓨터 90\n",
            "총점 220 평균 73.33333333333333 학점 C\n",
            "5번 학생 점수\n",
            "파이썬 30 자료구조 50 컴퓨터 90\n",
            "총점 170 평균 56.666666666666664 학점 F\n"
          ]
        }
      ]
    },
    {
      "cell_type": "code",
      "source": [
        "def add_entry(phone_book):\n",
        "  name = input(\"이름을 입력하세요: \")\n",
        "  phone = input(\"전화번호를 입력하세요: \")\n",
        "  phone_book[name] = phone\n",
        "  print(\"{}의 전화번호가 추가되었습니다.\".format(name))\n",
        "\n",
        "def delete_entry(phone_book):\n",
        "  name = input(\"삭제할 이름을 입력하세요: \")\n",
        "  if name in phone_book:\n",
        "    del phone_book[name]\n",
        "    print(\"{}의 전화번호가 삭제되었습니다.\".format(name))\n",
        "  else:\n",
        "    print(\"이름이 존재하지 않습니다.\")\n",
        "\n",
        "def search_entry(phone_book):\n",
        "  name = input(\"검색할 이름을 입력하세요: \")\n",
        "  if name in phone_book:\n",
        "    print(\"{}의 전화번호는 {}입니다.\".format(name, phone_book[name]))\n",
        "  else:\n",
        "    print(\"이름이 존재하지 않습니다.\")\n",
        "\n",
        "def print_entry(phone_book):\n",
        "  print(\"전화번호부:\")\n",
        "  for name, phone in phone_book.items(): #.items을 사용 두 개를 한 번에\n",
        "    print(\"{}: {}\".format(name, phone))\n",
        "\n",
        "phone_book = {}\n",
        "while True:\n",
        "  command = input(\"명령어를 입력하세요(a, d, s, p, e) \")\n",
        "\n",
        "  if command == \"a\":\n",
        "    add_entry(phone_book)\n",
        "\n",
        "  elif command == \"d\":\n",
        "    delete_entry(phone_book)\n",
        "\n",
        "  elif command == \"s\":\n",
        "    search_entry(phone_book)\n",
        "\n",
        "  elif command == \"p\":\n",
        "    print_entry(phone_book)\n",
        "\n",
        "  elif command == \"e\":\n",
        "    break\n",
        "\n",
        "  else:\n",
        "    print(\"잘못된 명령어입니다.\")\n",
        "\n",
        "print(\"프로그램을 종료합니다.\")"
      ],
      "metadata": {
        "colab": {
          "base_uri": "https://localhost:8080/"
        },
        "id": "ZRWaT18UGBZO",
        "outputId": "2a4812de-2cbe-488c-9dd3-9fba81a6e995"
      },
      "execution_count": 12,
      "outputs": [
        {
          "output_type": "stream",
          "name": "stdout",
          "text": [
            "명령어를 입력하세요(a, d, s, p, e) ㅁ\n",
            "잘못된 명령어입니다.\n",
            "명령어를 입력하세요(a, d, s, p, e) a\n",
            "이름을 입력하세요: jung\n",
            "전화번호를 입력하세요: 010-1111-1010\n",
            "jung의 전화번호가 추가되었습니다.\n",
            "명령어를 입력하세요(a, d, s, p, e) a\n",
            "이름을 입력하세요: kim\n",
            "전화번호를 입력하세요: 010-2020-3333\n",
            "kim의 전화번호가 추가되었습니다.\n",
            "명령어를 입력하세요(a, d, s, p, e) p\n",
            "전화번호부:\n",
            "jung: 010-1111-1010\n",
            "kim: 010-2020-3333\n",
            "명령어를 입력하세요(a, d, s, p, e) s\n",
            "검색할 이름을 입력하세요: jung\n",
            "jung의 전화번호는 010-1111-1010입니다.\n",
            "명령어를 입력하세요(a, d, s, p, e) s\n",
            "검색할 이름을 입력하세요: lee\n",
            "이름이 존재하지 않습니다.\n",
            "명령어를 입력하세요(a, d, s, p, e) d\n",
            "삭제할 이름을 입력하세요: p\n",
            "이름이 존재하지 않습니다.\n",
            "명령어를 입력하세요(a, d, s, p, e) d\n",
            "삭제할 이름을 입력하세요: jung\n",
            "jung의 전화번호가 삭제되었습니다.\n",
            "명령어를 입력하세요(a, d, s, p, e) p\n",
            "전화번호부:\n",
            "kim: 010-2020-3333\n",
            "명령어를 입력하세요(a, d, s, p, e) e\n",
            "프로그램을 종료합니다.\n"
          ]
        }
      ]
    },
    {
      "cell_type": "code",
      "source": [
        "count = 0\n",
        "total = 0\n",
        "\n",
        "with open(\"data.txt\", \"r\") as file :\n",
        "  lines = file.readline().split() # split을 사용하여 리스트로 저장\n",
        "\n",
        "for number_str in lines:\n",
        "  number = int(number_str)\n",
        "  count += 1\n",
        "  total += number\n",
        "\n",
        "  if number % 2 == 0:\n",
        "    print(str(number) + \":짝수\")\n",
        "  else:\n",
        "    print(str(number) + \":홀수\")\n",
        "\n",
        "average = total / count\n",
        "\n",
        "print(\"정수의 개수: \", count)\n",
        "print(\"합계: \", total)\n",
        "print(\"평균: \", average)\n",
        "\n"
      ],
      "metadata": {
        "colab": {
          "base_uri": "https://localhost:8080/"
        },
        "id": "wFyKUlwSJtMi",
        "outputId": "54cc6f81-0ca5-4313-e6be-d624240bf717"
      },
      "execution_count": 14,
      "outputs": [
        {
          "output_type": "stream",
          "name": "stdout",
          "text": [
            "26:짝수\n",
            "17:홀수\n",
            "30:짝수\n",
            "34:짝수\n",
            "15:홀수\n",
            "97:홀수\n",
            "21:홀수\n",
            "92:짝수\n",
            "정수의 개수:  8\n",
            "합계:  332\n",
            "평균:  41.5\n"
          ]
        }
      ]
    },
    {
      "cell_type": "code",
      "source": [
        "with open(\"prov.txt\", \"r\") as file :\n",
        "  sentences = file.readlines()\n",
        "\n",
        "  sentence_count = len(sentences)\n",
        "  word_count = 0\n",
        "\n",
        "  for sentence in sentences:\n",
        "    print(sentence.strip())\n",
        "    words = sentence.split()\n",
        "    word_count += len(words)\n",
        "\n",
        "  print(\"총 문장의 개수: \", sentence_count)\n",
        "  print(\"총 단어의 개수: \", word_count)\n",
        "\n"
      ],
      "metadata": {
        "colab": {
          "base_uri": "https://localhost:8080/"
        },
        "id": "nxae03alMcLf",
        "outputId": "63777260-de00-41de-d4c2-107342e5f9dc"
      },
      "execution_count": 17,
      "outputs": [
        {
          "output_type": "stream",
          "name": "stdout",
          "text": [
            "all's well that ends well.\n",
            "bad news travels fast.\n",
            "well begun is half done.\n",
            "총 문장의 개수:  3\n",
            "총 단어의 개수:  14\n"
          ]
        }
      ]
    }
  ]
}