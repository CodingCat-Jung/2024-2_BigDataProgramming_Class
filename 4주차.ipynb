{
  "nbformat": 4,
  "nbformat_minor": 0,
  "metadata": {
    "colab": {
      "provenance": [],
      "authorship_tag": "ABX9TyM3VIFpioFRKKeG56F0jHB8",
      "include_colab_link": true
    },
    "kernelspec": {
      "name": "python3",
      "display_name": "Python 3"
    },
    "language_info": {
      "name": "python"
    }
  },
  "cells": [
    {
      "cell_type": "markdown",
      "metadata": {
        "id": "view-in-github",
        "colab_type": "text"
      },
      "source": [
        "<a href=\"https://colab.research.google.com/github/CodingCat-Jung/2024-2_BigDataProgramming_Class/blob/main/4%EC%A3%BC%EC%B0%A8.ipynb\" target=\"_parent\"><img src=\"https://colab.research.google.com/assets/colab-badge.svg\" alt=\"Open In Colab\"/></a>"
      ]
    },
    {
      "cell_type": "code",
      "execution_count": 1,
      "metadata": {
        "colab": {
          "base_uri": "https://localhost:8080/"
        },
        "id": "NFQCtrGMsa7P",
        "outputId": "5459f92d-c393-4184-d752-19988d8d6248"
      },
      "outputs": [
        {
          "output_type": "stream",
          "name": "stdout",
          "text": [
            "원하는 단은: 9\n",
            "9 x 1 = 9\n",
            "9 x 2 = 18\n",
            "9 x 3 = 27\n",
            "9 x 4 = 36\n",
            "9 x 5 = 45\n",
            "9 x 6 = 54\n",
            "9 x 7 = 63\n",
            "9 x 8 = 72\n",
            "9 x 9 = 81\n"
          ]
        }
      ],
      "source": [
        "num = int(input(\"원하는 단은: \"))\n",
        "\n",
        "i = 1\n",
        "\n",
        "for i in range(9):\n",
        "  print(num, \"x\", i+1, \"=\", num*(i+1))\n",
        "  i += 1"
      ]
    },
    {
      "cell_type": "code",
      "source": [
        "ssn = \"991225-2468123\"\n",
        "print(ssn[7])\n",
        "\n",
        "hero = [\"hulk\", \"iron man\", \"superman\"]\n",
        "print(hero[2])"
      ],
      "metadata": {
        "colab": {
          "base_uri": "https://localhost:8080/"
        },
        "id": "Ig8sZLvv1-S1",
        "outputId": "71f58ac7-9602-4bbd-f1ce-403d9cc3d3f4"
      },
      "execution_count": 5,
      "outputs": [
        {
          "output_type": "stream",
          "name": "stdout",
          "text": [
            "2\n",
            "superman\n"
          ]
        }
      ]
    },
    {
      "cell_type": "code",
      "source": [],
      "metadata": {
        "id": "en6x50ET2Y0t"
      },
      "execution_count": null,
      "outputs": []
    }
  ]
}