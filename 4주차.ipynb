{
  "nbformat": 4,
  "nbformat_minor": 0,
  "metadata": {
    "colab": {
      "provenance": [],
      "authorship_tag": "ABX9TyPx7vqI0F+tB2d4v+SJN0G8",
      "include_colab_link": true
    },
    "kernelspec": {
      "name": "python3",
      "display_name": "Python 3"
    },
    "language_info": {
      "name": "python"
    }
  },
  "cells": [
    {
      "cell_type": "markdown",
      "metadata": {
        "id": "view-in-github",
        "colab_type": "text"
      },
      "source": [
        "<a href=\"https://colab.research.google.com/github/CodingCat-Jung/2024-2_BigDataProgramming_Class/blob/main/4%EC%A3%BC%EC%B0%A8.ipynb\" target=\"_parent\"><img src=\"https://colab.research.google.com/assets/colab-badge.svg\" alt=\"Open In Colab\"/></a>"
      ]
    },
    {
      "cell_type": "code",
      "execution_count": 1,
      "metadata": {
        "colab": {
          "base_uri": "https://localhost:8080/"
        },
        "id": "NFQCtrGMsa7P",
        "outputId": "5459f92d-c393-4184-d752-19988d8d6248"
      },
      "outputs": [
        {
          "output_type": "stream",
          "name": "stdout",
          "text": [
            "원하는 단은: 9\n",
            "9 x 1 = 9\n",
            "9 x 2 = 18\n",
            "9 x 3 = 27\n",
            "9 x 4 = 36\n",
            "9 x 5 = 45\n",
            "9 x 6 = 54\n",
            "9 x 7 = 63\n",
            "9 x 8 = 72\n",
            "9 x 9 = 81\n"
          ]
        }
      ],
      "source": [
        "num = int(input(\"원하는 단은: \"))\n",
        "\n",
        "i = 1\n",
        "\n",
        "for i in range(9):\n",
        "  print(num, \"x\", i+1, \"=\", num*(i+1))\n",
        "  i += 1"
      ]
    },
    {
      "cell_type": "code",
      "source": [
        "ssn = \"991225-2468123\"\n",
        "print(ssn[7])\n",
        "\n",
        "hero = [\"hulk\", \"iron man\", \"superman\"]\n",
        "print(hero[2])"
      ],
      "metadata": {
        "colab": {
          "base_uri": "https://localhost:8080/"
        },
        "id": "Ig8sZLvv1-S1",
        "outputId": "71f58ac7-9602-4bbd-f1ce-403d9cc3d3f4"
      },
      "execution_count": 5,
      "outputs": [
        {
          "output_type": "stream",
          "name": "stdout",
          "text": [
            "2\n",
            "superman\n"
          ]
        }
      ]
    },
    {
      "cell_type": "code",
      "source": [
        "list = [[\"홍길동\", \"010-1234-5678\", \"서울\", 30],[\"강호동\",\"010-9876-5432\",\"신창\", 24]]\n",
        "print(list[0][1][9:])"
      ],
      "metadata": {
        "colab": {
          "base_uri": "https://localhost:8080/"
        },
        "id": "en6x50ET2Y0t",
        "outputId": "896c1b1e-429b-4504-947d-84f6f64a056d"
      },
      "execution_count": 6,
      "outputs": [
        {
          "output_type": "stream",
          "name": "stdout",
          "text": [
            "5678\n"
          ]
        }
      ]
    },
    {
      "cell_type": "code",
      "source": [
        "zip_code = [\"03772\", \"12345\", \"34322\"] # 리스트\n",
        "\n",
        "zip_code = (\"03772\", \"12345\", \"34322\") # 투플은 수정이 안 됨. 조회만 가능"
      ],
      "metadata": {
        "id": "rYQYB9FM8Kl8"
      },
      "execution_count": null,
      "outputs": []
    },
    {
      "cell_type": "code",
      "source": [
        "# 딕셔너리. 키와 값으로 구성. 리스트와 마찬가지로 어떤 유형의 값도 저장 가능 {}\n",
        "# 키 값으로 접근해야함. 리스트처럼 인덱싱 x"
      ],
      "metadata": {
        "id": "z9hbR9dF88D7"
      },
      "execution_count": null,
      "outputs": []
    },
    {
      "cell_type": "code",
      "source": [
        "phone_book = {'홍길동':'010-1234-5678',\n",
        "             '강감찬':'010-1111-2222',\n",
        "             '이순신':'010-2222-3333'}\n",
        "\n",
        "for key in sorted(phone_book.keys()):\n",
        "   print(key,phone_book[key])"
      ],
      "metadata": {
        "colab": {
          "base_uri": "https://localhost:8080/"
        },
        "id": "fEwdPTwQ94N0",
        "outputId": "e7f178c0-612b-448c-967e-c493f5d4f05a"
      },
      "execution_count": 7,
      "outputs": [
        {
          "output_type": "stream",
          "name": "stdout",
          "text": [
            "강감찬 010-1111-2222\n",
            "이순신 010-2222-3333\n",
            "홍길동 010-1234-5678\n"
          ]
        }
      ]
    },
    {
      "cell_type": "code",
      "source": [
        "items = {\"커피\":7, \"콜라\":4, \"우유\":1, \"사이다\":5, \"펜\":3}\n",
        "\n",
        "item = input(\"물건의 이름을 입력하세요: \")\n",
        "print(items[item])"
      ],
      "metadata": {
        "colab": {
          "base_uri": "https://localhost:8080/"
        },
        "id": "gCawPV98AoSq",
        "outputId": "b18f5efc-12eb-40f2-c2f3-a042324b6cfa"
      },
      "execution_count": 8,
      "outputs": [
        {
          "output_type": "stream",
          "name": "stdout",
          "text": [
            "물건의 이름을 입력하세요: 콜라\n",
            "4\n"
          ]
        }
      ]
    },
    {
      "cell_type": "code",
      "source": [
        "mart = {}\n",
        "\n",
        "for i in range(5):\n",
        "  item = input(\"물건의 이름을 입력하세요: \")\n",
        "  price = int(input(\"물건의 가격을 입력하세요: \"))\n",
        "  mart[item] = price\n",
        "\n",
        "print(mart)\n",
        "\n",
        "q = input(\"검색하고자 하는 품목명을 입력하세요: \")\n",
        "print(mart[q])"
      ],
      "metadata": {
        "colab": {
          "base_uri": "https://localhost:8080/"
        },
        "id": "ZyzW_8GgBxLn",
        "outputId": "ce54feb9-a4d4-4a8b-f5e8-037a8f982d92"
      },
      "execution_count": 9,
      "outputs": [
        {
          "output_type": "stream",
          "name": "stdout",
          "text": [
            "물건의 이름을 입력하세요: 커피\n",
            "물건의 가격을 입력하세요: 500\n",
            "물건의 이름을 입력하세요: 물\n",
            "물건의 가격을 입력하세요: 100\n",
            "물건의 이름을 입력하세요: 콜라\n",
            "물건의 가격을 입력하세요: 200\n",
            "물건의 이름을 입력하세요: 사이다\n",
            "물건의 가격을 입력하세요: 200\n",
            "물건의 이름을 입력하세요: 우유\n",
            "물건의 가격을 입력하세요: 300\n",
            "{'커피': 500, '물': 100, '콜라': 200, '사이다': 200, '우유': 300}\n",
            "검색하고자 하는 품목명을 입력하세요: 사이다\n",
            "200\n"
          ]
        }
      ]
    },
    {
      "cell_type": "code",
      "source": [
        "# 명령어로 삽입, 삭제, 끝 중 하나 입력 받음\n",
        "# 삽입은 하나의 정수를 받아 리스트에 저장 저장된 내용과 평균값 출력\n",
        "# 삭제는 리스트에 맨 뒤에 있는 데이터 삭제 후 내용과 평균값 출력\n",
        "\n",
        "def cal_average(num_list):\n",
        "  if len(num_list) == 0:\n",
        "    return 0\n",
        "\n",
        "  return sum(num_list)/len(num_list)\n",
        "\n",
        "num_list = []\n",
        "avg = 0\n",
        "\n",
        "while True:\n",
        "  command = input(\"명령어를 입력하세요: \")\n",
        "\n",
        "  if command == \"끝\":\n",
        "    print(\"프로그램을 종료합니다.\")\n",
        "    break\n",
        "\n",
        "  elif command == \"삽입\":\n",
        "    num = int(input(\"정수를 입력하세요: \"))\n",
        "    num_list.append(num)\n",
        "\n",
        "    avg = sum(num_list)/len(num_list)\n",
        "    print(\"{} avg {:.2f}\".format(num_list, avg))\n",
        "\n",
        "  elif command == \"삭제\":\n",
        "    if num_list:\n",
        "      num_list.pop()\n",
        "\n",
        "      avg = sum(num_list)/len(num_list)\n",
        "      print(\"{} avg {:.2f}\".format(num_list, avg))\n",
        "\n",
        "    else:\n",
        "      print(\"삭제할 데이터가 없습니다.\")\n",
        "\n",
        "  else:\n",
        "    print(\"잘못된 명령어입니다.\")\n"
      ],
      "metadata": {
        "colab": {
          "base_uri": "https://localhost:8080/"
        },
        "id": "mrJoONK1CRJR",
        "outputId": "e96bde11-8910-4826-b3d9-c81834f802fd"
      },
      "execution_count": 13,
      "outputs": [
        {
          "output_type": "stream",
          "name": "stdout",
          "text": [
            "명령어를 입력하세요: 삭제\n",
            "삭제할 데이터가 없습니다.\n",
            "명령어를 입력하세요: 삽입\n",
            "정수를 입력하세요: 30\n",
            "[30] avg 30.00\n",
            "명령어를 입력하세요: 삽입\n",
            "정수를 입력하세요: 50\n",
            "[30, 50] avg 40.00\n",
            "명령어를 입력하세요: 삭제\n",
            "[30] avg 30.00\n",
            "명령어를 입력하세요: 끝\n",
            "프로그램을 종료합니다.\n"
          ]
        }
      ]
    }
  ]
}